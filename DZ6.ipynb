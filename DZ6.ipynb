{
 "cells": [
  {
   "cell_type": "markdown",
   "metadata": {},
   "source": [
    "Задание 1"
   ]
  },
  {
   "cell_type": "code",
   "execution_count": 21,
   "metadata": {},
   "outputs": [
    {
     "name": "stdout",
     "output_type": "stream",
     "text": [
      "Wednesday, October 2, 2002\n",
      "Sunday, 11.10.13\n",
      "Thursday, 18 August 1977\n"
     ]
    }
   ],
   "source": [
    "from datetime import datetime\n",
    "\n",
    "date_string1 = 'Wednesday, October 2, 2002'\n",
    "date_string2 = 'Friday, 11.10.13'\n",
    "date_string3 = 'Thursday, 18 August 1977'\n",
    "\n",
    "date_datetime1 = datetime.strptime(date_string1, '%A, %B %d, %Y')\n",
    "date_datetime2 = datetime.strptime(date_string2, '%A, %m.%d.%y')\n",
    "date_datetime3 = datetime.strptime(date_string3, '%A, %d %B %Y')\n",
    "\n",
    "\n",
    "print(date_datetime1.strftime('%A, %B %#d, %Y'))\n",
    "print(date_datetime2.strftime('%A, %m.%d.%y'))\n",
    "print(date_datetime3.strftime('%A, %d %B %Y'))"
   ]
  },
  {
   "cell_type": "code",
   "execution_count": null,
   "metadata": {},
   "outputs": [],
   "source": []
  }
 ],
 "metadata": {
  "kernelspec": {
   "display_name": "Python 3",
   "language": "python",
   "name": "python3"
  },
  "language_info": {
   "codemirror_mode": {
    "name": "ipython",
    "version": 3
   },
   "file_extension": ".py",
   "mimetype": "text/x-python",
   "name": "python",
   "nbconvert_exporter": "python",
   "pygments_lexer": "ipython3",
   "version": "3.7.4"
  }
 },
 "nbformat": 4,
 "nbformat_minor": 2
}
