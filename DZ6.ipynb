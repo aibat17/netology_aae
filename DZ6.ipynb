{
 "cells": [
  {
   "cell_type": "markdown",
   "metadata": {},
   "source": [
    "Задание 1"
   ]
  },
  {
   "cell_type": "code",
   "execution_count": 21,
   "metadata": {},
   "outputs": [
    {
     "name": "stdout",
     "output_type": "stream",
     "text": [
      "Wednesday, October 2, 2002\n",
      "Sunday, 11.10.13\n",
      "Thursday, 18 August 1977\n"
     ]
    }
   ],
   "source": [
    "from datetime import datetime\n",
    "\n",
    "date_string1 = 'Wednesday, October 2, 2002'\n",
    "date_string2 = 'Friday, 11.10.13'\n",
    "date_string3 = 'Thursday, 18 August 1977'\n",
    "\n",
    "date_datetime1 = datetime.strptime(date_string1, '%A, %B %d, %Y')\n",
    "date_datetime2 = datetime.strptime(date_string2, '%A, %m.%d.%y')\n",
    "date_datetime3 = datetime.strptime(date_string3, '%A, %d %B %Y')\n",
    "\n",
    "\n",
    "print(date_datetime1.strftime('%A, %B %#d, %Y'))\n",
    "print(date_datetime2.strftime('%A, %m.%d.%y'))\n",
    "print(date_datetime3.strftime('%A, %d %B %Y'))"
   ]
  },
  {
   "cell_type": "markdown",
   "metadata": {},
   "source": [
    "Задание 2"
   ]
  },
  {
   "cell_type": "code",
   "execution_count": 97,
   "metadata": {},
   "outputs": [
    {
     "name": "stdout",
     "output_type": "stream",
     "text": [
      "Дата корректна\n",
      "Некорректная дата\n",
      "Некорректная дата\n",
      "Дата корректна\n",
      "Некорректная дата\n"
     ]
    }
   ],
   "source": [
    "from datetime import datetime\n",
    "\n",
    "stream = ['2018-04-02', '2018-02-29', '2018-19-02', '2020-01-10','2021-01-40']\n",
    "\n",
    "def check_date(stream):\n",
    "    for i in range(len(stream)):\n",
    "        try:\n",
    "            year = int(stream[i][0:4])\n",
    "            month = int(stream[i][5:7])\n",
    "            day = int(stream[i][8:10])\n",
    "            date = datetime(year,month,day)\n",
    "            if bool(date.strftime('%Y-%m-%d')) == True:\n",
    "                print('Дата корректна')\n",
    "        except:\n",
    "            print('Некорректная дата')\n",
    "\n",
    "        \n",
    "check_date(stream)"
   ]
  },
  {
   "cell_type": "markdown",
   "metadata": {},
   "source": [
    "Задание 3"
   ]
  },
  {
   "cell_type": "code",
   "execution_count": 98,
   "metadata": {},
   "outputs": [
    {
     "name": "stdout",
     "output_type": "stream",
     "text": [
      "2021-02-01\n",
      "2021-02-02\n",
      "2021-02-03\n",
      "2021-02-04\n",
      "2021-02-05\n",
      "2021-02-06\n",
      "2021-02-07\n",
      "2021-02-08\n",
      "2021-02-09\n",
      "2021-02-10\n",
      "2021-02-11\n",
      "2021-02-12\n",
      "2021-02-13\n",
      "2021-02-14\n",
      "2021-02-15\n",
      "2021-02-16\n",
      "2021-02-17\n",
      "2021-02-18\n",
      "2021-02-19\n",
      "2021-02-20\n",
      "2021-02-21\n",
      "2021-02-22\n",
      "2021-02-23\n",
      "2021-02-24\n",
      "2021-02-25\n"
     ]
    }
   ],
   "source": [
    "from datetime import timedelta\n",
    "\n",
    "start_date = '2021-02-01'\n",
    "end_date = '2021-02-25'\n",
    "\n",
    "def date_range(start_date, end_date):\n",
    "    try:\n",
    "        start_date_t = datetime.strptime(start_date, '%Y-%m-%d')\n",
    "        end_date_t = datetime.strptime(end_date, '%Y-%m-%d')\n",
    "        if (start_date_t <= end_date_t):\n",
    "            while (start_date_t <= end_date_t):\n",
    "                print(start_date_t.strftime('%Y-%m-%d'))\n",
    "                start_date_t += timedelta(days=1)\n",
    "        elif (start_date_t > end_date_t):\n",
    "            return []\n",
    "    except:\n",
    "        print('Неверный формат.')\n",
    "\n",
    "date_range(start_date, end_date)"
   ]
  },
  {
   "cell_type": "code",
   "execution_count": null,
   "metadata": {},
   "outputs": [],
   "source": []
  }
 ],
 "metadata": {
  "kernelspec": {
   "display_name": "Python 3",
   "language": "python",
   "name": "python3"
  },
  "language_info": {
   "codemirror_mode": {
    "name": "ipython",
    "version": 3
   },
   "file_extension": ".py",
   "mimetype": "text/x-python",
   "name": "python",
   "nbconvert_exporter": "python",
   "pygments_lexer": "ipython3",
   "version": "3.7.4"
  }
 },
 "nbformat": 4,
 "nbformat_minor": 2
}
