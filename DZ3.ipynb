{
 "cells": [
  {
   "cell_type": "markdown",
   "metadata": {},
   "source": [
    "Задание 1"
   ]
  },
  {
   "cell_type": "code",
   "execution_count": 1,
   "metadata": {},
   "outputs": [
    {
     "name": "stdout",
     "output_type": "stream",
     "text": [
      "Результат: {98, 35, 213, 54, 119, 15}\n"
     ]
    }
   ],
   "source": [
    "ids = {'user1': [213, 213, 213, 15, 213],\n",
    "       'user2': [54, 54, 119, 119, 119],\n",
    "       'user3': [213, 98, 98, 35]}\n",
    "unique = set()\n",
    "for item in ids.items():\n",
    "    unique.update(set(item[1]))\n",
    "print('Результат:',unique)\n"
   ]
  },
  {
   "cell_type": "markdown",
   "metadata": {},
   "source": [
    "Задание 2 (верно ли в части того, что я создал два счетчика, которые будут считать кол-во слов состоящих из 2,3 слов? Как быть если в списке больше слов чем по 2 или 3?, то есть например по 4 слова в одном значении. Дайте направление, на того, как я могу сделать адаптированный кейс?)"
   ]
  },
  {
   "cell_type": "code",
   "execution_count": 89,
   "metadata": {},
   "outputs": [
    {
     "name": "stdout",
     "output_type": "stream",
     "text": [
      "Поисковых запросов, содержащих 3 слов(а):57.14 %\n",
      "Поисковых запросов, содержащих 2 слов(а):42.86 %\n"
     ]
    }
   ],
   "source": [
    "queries = [ 'смотреть сериалы онлайн', 'новости спорта', 'афиша кино', 'курс доллара', 'сериалы этим летом', 'курс по питону', 'сериалы про спорт']\n",
    "total = len(queries);\n",
    "res = {};\n",
    "\n",
    "for item in queries:\n",
    "    res.setdefault(len(item.split()),0)\n",
    "    count = 0;\n",
    "    if len(item.split()) in res:\n",
    "        res[len(item.split())] += 1;\n",
    "        res.setdefault(len(item.split()), count)\n",
    "\n",
    "for k,v in res.items():\n",
    "    print('Поисковых запросов, содержащих {} слов(а):{} %'.format(k,round(v/total * 100,2)))\n"
   ]
  },
  {
   "cell_type": "markdown",
   "metadata": {},
   "source": [
    "Задание 3 (важен ли индекс на котором расположено значение ROI?) + у меня такой вопрос: как понимать, что именно в каком-то случае я должен использовать функции zip, enumerate? "
   ]
  },
  {
   "cell_type": "code",
   "execution_count": 4,
   "metadata": {},
   "outputs": [
    {
     "name": "stdout",
     "output_type": "stream",
     "text": [
      "{'vk': {'revenue': 103, 'cost': 98, 'ROI': 5.1}, 'yandex': {'revenue': 179, 'cost': 153, 'ROI': 16.99}, 'facebook': {'revenue': 103, 'cost': 110, 'ROI': -6.36}, 'adwords': {'revenue': 35, 'cost': 34, 'ROI': 2.94}, 'twitter': {'revenue': 11, 'cost': 24, 'ROI': -54.17}}\n"
     ]
    }
   ],
   "source": [
    "results = {\n",
    "'vk': {'revenue': 103, 'cost': 98},\n",
    "'yandex': {'revenue': 179, 'cost': 153},\n",
    "'facebook': {'revenue': 103, 'cost': 110},\n",
    "'adwords': {'revenue': 35, 'cost': 34},\n",
    "'twitter': {'revenue': 11, 'cost': 24},\n",
    "}\n",
    "for item in results.values():\n",
    "    item['ROI'] = round((item['revenue'] / item['cost'] - 1) * 100,2)\n",
    "print(results)\n"
   ]
  },
  {
   "cell_type": "markdown",
   "metadata": {},
   "source": [
    "Задание 4 (если не использовать функцию max, то второе решение использую if statement? перебирая каждое значение для поиска максимального, верно?)"
   ]
  },
  {
   "cell_type": "code",
   "execution_count": 20,
   "metadata": {},
   "outputs": [
    {
     "name": "stdout",
     "output_type": "stream",
     "text": [
      "Результат: Максимальный объем продаж на рекламном канале: vk\n"
     ]
    }
   ],
   "source": [
    "stats = {'facebook': 55, 'yandex': 115, 'vk': 120, 'google': 99, 'email': 42, 'ok': 98}\n",
    "\n",
    "max_val = max(stats.values())\n",
    "for key, value in stats.items():\n",
    "    if value == max_val:\n",
    "        print('Результат: Максимальный объем продаж на рекламном канале:',key) "
   ]
  },
  {
   "cell_type": "markdown",
   "metadata": {},
   "source": [
    "Задание 5 (частичное решение, не могу понять где нужно минусовать значение, чтобы словарь заканчивался последней вложенностью. Прошу написать как должно быть верно. Спасибо.)"
   ]
  },
  {
   "cell_type": "code",
   "execution_count": 1,
   "metadata": {},
   "outputs": [
    {
     "name": "stdout",
     "output_type": "stream",
     "text": [
      "{'2018-01-01': {'yandex': {'cpc': 100}}}\n"
     ]
    }
   ],
   "source": [
    "my_list = ['2018-01-01', 'yandex', 'cpc',100]\n",
    "\n",
    "res = my_list[-1]\n",
    "length = len(my_list) - 1 #number of dict to create\n",
    "my_dict = {}\n",
    "\n",
    "for el in reversed(my_list[:-1]):\n",
    "    res = {el: res}\n",
    "print(res)\n",
    "\n",
    "#for key in reversed(my_list):\n",
    "    #my_dict = {key: my_dict}\n",
    "#print(my_dict)"
   ]
  },
  {
   "cell_type": "code",
   "execution_count": 51,
   "metadata": {},
   "outputs": [
    {
     "name": "stdout",
     "output_type": "stream",
     "text": [
      "{3: 4, 2: 3}\n"
     ]
    }
   ],
   "source": [
    "queries = [\n",
    "    'смотреть сериалы онлайн',\n",
    "    'новости спорта',\n",
    "    'афиша кино',\n",
    "    'курс доллара',\n",
    "    'сериалы этим летом',\n",
    "    'курс по питону',\n",
    "    'сериалы про спорт',\n",
    "]\n",
    "sep_queries = [dd.split(\" \") for dd in queries]\n",
    "a ={}\n",
    "for sep in sep_queries:\n",
    "    a.setdefault(len(sep),0)\n",
    "    cnt = 0\n",
    "    if len(sep) in a:\n",
    "        a[len(sep)] += 1\n",
    "        a.setdefault(len(sep), cnt)\n",
    "print(a)"
   ]
  },
  {
   "cell_type": "code",
   "execution_count": null,
   "metadata": {},
   "outputs": [],
   "source": []
  }
 ],
 "metadata": {
  "kernelspec": {
   "display_name": "Python 3",
   "language": "python",
   "name": "python3"
  },
  "language_info": {
   "codemirror_mode": {
    "name": "ipython",
    "version": 3
   },
   "file_extension": ".py",
   "mimetype": "text/x-python",
   "name": "python",
   "nbconvert_exporter": "python",
   "pygments_lexer": "ipython3",
   "version": "3.7.4"
  }
 },
 "nbformat": 4,
 "nbformat_minor": 2
}
