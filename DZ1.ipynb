{
 "cells": [
  {
   "cell_type": "markdown",
   "metadata": {},
   "source": [
    "Задание 1"
   ]
  },
  {
   "cell_type": "code",
   "execution_count": 10,
   "metadata": {},
   "outputs": [
    {
     "name": "stdout",
     "output_type": "stream",
     "text": [
      "Фразы равной длины\n"
     ]
    }
   ],
   "source": [
    "phrase_1 = 'Насколько проще было бы писать программы, если бы не заказчики'\n",
    "phrase_2 = 'Насколько проще было бы писать программы, если бы не заказчики'\n",
    "\n",
    "if len(phrase_1) > len(phrase_2):\n",
    "    print(\"Фраза 1 длиннее фразы 2\")\n",
    "elif len(phrase_1) < len(phrase_2):\n",
    "    print(\"Фраза 2 длиннее фразы 1\")\n",
    "else:\n",
    "    print(\"Фразы равной длины\")"
   ]
  },
  {
   "cell_type": "markdown",
   "metadata": {},
   "source": [
    "Задание 2"
   ]
  },
  {
   "cell_type": "code",
   "execution_count": 15,
   "metadata": {},
   "outputs": [
    {
     "name": "stdout",
     "output_type": "stream",
     "text": [
      "Високосный год\n"
     ]
    }
   ],
   "source": [
    "year = 2016\n",
    "\n",
    "if (year % 4 == 0) and (year % 100 != 0) or (year % 400 == 0):\n",
    "    print(\"Високосный год\")\n",
    "else:\n",
    "    print(\"Обычный год\")\n"
   ]
  },
  {
   "cell_type": "markdown",
   "metadata": {},
   "source": [
    "Задание 3"
   ]
  },
  {
   "cell_type": "code",
   "execution_count": 23,
   "metadata": {},
   "outputs": [
    {
     "name": "stdout",
     "output_type": "stream",
     "text": [
      "Введите день: 44\n",
      "Введите месяц: Март\n",
      "Вами введенно неверное число.\n"
     ]
    }
   ],
   "source": [
    "day = input(\"Введите день: \")\n",
    "month = input(\"Введите месяц: \")\n",
    "day = int(day)\n",
    "\n",
    "if (month == 'Март' and (day >= 1 and day <=20)) or (month == 'Февраль' and (day >= 19 and day <=29)):\n",
    "    print(\"Ваш знак зодиака: Рыбы\")\n",
    "elif (month == 'Март' and (day >= 21 and day <=31)) or (month == 'Апрель' and (day >= 1 and day <=19)):\n",
    "    print(\"Ваш знак зодиака: Овен\")\n",
    "elif (month == 'Апрель' and (day >= 20 and day <=30)) or (month == 'Май' and (day >= 1 and day <=20)):\n",
    "    print(\"Ваш знак зодиака: Телец\")\n",
    "elif (month == 'Май' and (day >= 21 and day <=31)) or (month == 'Июнь' and (day >= 1 and day <=20)):\n",
    "    print(\"Ваш знак зодиака: Близнецы\")\n",
    "elif (month == 'Июнь' and (day >= 21 and day <=30)) or (month == 'Июль' and (day >= 1 and day <=22)):\n",
    "    print(\"Ваш знак зодиака: Рак\")\n",
    "elif (month == 'Июль' and (day >= 23 and day <=31)) or (month == 'Август' and (day >= 1 and day <=22)):\n",
    "    print(\"Ваш знак зодиака: Лев\")\n",
    "elif (month == 'Август' and (day >= 23 and day <=31)) or (month == 'Сентябрь' and (day >= 1 and day <=22)):\n",
    "    print(\"Ваш знак зодиака: Дева\")\n",
    "elif (month == 'Сентябрь' and (day >= 23 and day <=30)) or (month == 'Октябрь' and (day >= 1 and day <=22)):\n",
    "    print(\"Ваш знак зодиака: Весы\")\n",
    "elif (month == 'Октябрь' and (day >= 23 and day <=31)) or (month == 'Ноябрь' and (day >= 1 and day <=21)):\n",
    "    print(\"Ваш знак зодиака: Скорпион\")\n",
    "elif (month == 'Ноябрь' and (day >= 22 and day <=30)) or (month == 'Декабрь' and (day >= 1 and day <=21)):\n",
    "    print(\"Ваш знак зодиака: Стрелец\")\n",
    "elif (month == 'Декабрь' and (day >= 22 and day <=31)) or (month == 'Январь' and (day >= 1 and day <=19)):\n",
    "    print(\"Ваш знак зодиака: Козерог\")\n",
    "elif (month == 'Январь' and (day >= 20 and day <=31)) or (month == 'Февраль' and (day >= 1 and day <=18)):\n",
    "    print(\"Ваш знак зодиака: Водолей\")\n",
    "elif day > 31 or day < 1:\n",
    "    print (\"Вами введенно неверное число.\")"
   ]
  },
  {
   "cell_type": "markdown",
   "metadata": {},
   "source": [
    "Задание 4"
   ]
  },
  {
   "cell_type": "code",
   "execution_count": 27,
   "metadata": {},
   "outputs": [
    {
     "name": "stdout",
     "output_type": "stream",
     "text": [
      "Упаковка для лыж\n"
     ]
    }
   ],
   "source": [
    "width = 45\n",
    "length = 205\n",
    "height = 15\n",
    "\n",
    "if width < 15 and length < 15 and height < 15:\n",
    "    print(\"Коробка №1\")\n",
    "elif length > 200:\n",
    "    print(\"Упаковка для лыж\")\n",
    "elif (width > 15 and width < 50) or (length > 15 and length < 50) or (height > 15 and height < 50):\n",
    "    print(\"Коробка №2\")\n",
    "else:\n",
    "    print(\"Стандартная коробка №3\")"
   ]
  },
  {
   "cell_type": "code",
   "execution_count": null,
   "metadata": {},
   "outputs": [],
   "source": []
  }
 ],
 "metadata": {
  "kernelspec": {
   "display_name": "Python 3",
   "language": "python",
   "name": "python3"
  },
  "language_info": {
   "codemirror_mode": {
    "name": "ipython",
    "version": 3
   },
   "file_extension": ".py",
   "mimetype": "text/x-python",
   "name": "python",
   "nbconvert_exporter": "python",
   "pygments_lexer": "ipython3",
   "version": "3.7.4"
  }
 },
 "nbformat": 4,
 "nbformat_minor": 2
}
