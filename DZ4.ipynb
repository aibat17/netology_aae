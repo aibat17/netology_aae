{
 "cells": [
  {
   "cell_type": "markdown",
   "metadata": {},
   "source": [
    "Задание 1"
   ]
  },
  {
   "cell_type": "code",
   "execution_count": 138,
   "metadata": {},
   "outputs": [],
   "source": [
    "documents = [\n",
    " {'type': 'passport', 'number': '2207 876234', 'name': 'Василий Гупкин'},\n",
    " {'type': 'invoice', 'number': '11-2', 'name': 'Геннадий Покемонов'},\n",
    " {'type': 'insurance', 'number': '10006', 'name': 'Аристарх Павлов'},\n",
    "]\n",
    "\n",
    "directories = {\n",
    " '1': ['2207 876234', '11-2'],\n",
    " '2': ['10006'],\n",
    " '3': []\n",
    "}  \n",
    "\n"
   ]
  },
  {
   "cell_type": "markdown",
   "metadata": {},
   "source": [
    "Пункт 1"
   ]
  },
  {
   "cell_type": "code",
   "execution_count": 3,
   "metadata": {},
   "outputs": [
    {
     "name": "stdout",
     "output_type": "stream",
     "text": [
      "Введите команду:p\n",
      "Введите номер документа:11-2\n",
      "Владелец документа: Геннадий Покемонов\n",
      "Введите команду:p\n",
      "Введите номер документа:10006\n",
      "Владелец документа: Аристарх Павлов\n",
      "Введите команду:q\n"
     ]
    }
   ],
   "source": [
    "def check_owner(num):\n",
    "    for item in documents:\n",
    "        if num == item['number']:\n",
    "            return 'Владелец документа: {}'.format(item['name']) \n",
    "    return 'Документ не найден в базе'\n",
    "  \n",
    "def check_command(command):\n",
    "    while (command != 'q'):\n",
    "        command = input(\"Введите команду:\")\n",
    "        if command == 'p':\n",
    "            num = str(input(\"Введите номер документа:\"))\n",
    "            print(check_owner(num))\n",
    "        elif command == 'q':\n",
    "            break;\n",
    "\n",
    "check_command('e')"
   ]
  },
  {
   "cell_type": "markdown",
   "metadata": {},
   "source": [
    "Пункт 2"
   ]
  },
  {
   "cell_type": "code",
   "execution_count": 67,
   "metadata": {},
   "outputs": [
    {
     "name": "stdout",
     "output_type": "stream",
     "text": [
      "Введите команду:s\n",
      "Введите номер документа:11-2\n",
      "Документ хранится на полке: 1\n",
      "Введите команду:s\n",
      "Введите номер документа:10006\n",
      "Документ хранится на полке: 2\n",
      "Введите команду:s\n",
      "Введите номер документа:1\n",
      "Документ не найден в базе\n",
      "Введите команду:q\n"
     ]
    }
   ],
   "source": [
    "def check_dir(num):\n",
    "    for k,v in directories.items():\n",
    "        for item in v:\n",
    "            if item == num:\n",
    "                return 'Документ хранится на полке: {}'.format(k)\n",
    "    return 'Документ не найден в базе'\n",
    "    \n",
    "def check_command(command):\n",
    "    while (command != 'q'):\n",
    "        command = input(\"Введите команду:\")\n",
    "        if command == 's':\n",
    "            num = str(input(\"Введите номер документа:\"))\n",
    "            print(check_dir(num))\n",
    "        elif command == 'q':\n",
    "            break;\n",
    "\n",
    "check_command('e')"
   ]
  },
  {
   "cell_type": "markdown",
   "metadata": {},
   "source": [
    "Пункт 3"
   ]
  },
  {
   "cell_type": "code",
   "execution_count": 2,
   "metadata": {},
   "outputs": [
    {
     "name": "stdout",
     "output_type": "stream",
     "text": [
      "Введите команду:l\n",
      "№: 2207 876234, тип: passport, владелец: Василий Гупкин, полка хранения: 1\n",
      "№: 11-2, тип: invoice, владелец: Геннадий Покемонов, полка хранения: 1\n",
      "№: 10006, тип: insurance, владелец: Аристарх Павлов, полка хранения: 2\n",
      "Введите команду:q\n"
     ]
    }
   ],
   "source": [
    "def check_dir(num):\n",
    "    for k,v in directories.items():\n",
    "        for item in v:\n",
    "            if item == num:\n",
    "                return k\n",
    "    return 'Документ не найден в базе'\n",
    "\n",
    "def full_info():\n",
    "    for item in documents:\n",
    "        print('№: {}, тип: {}, владелец: {}, полка хранения: {}'.format(item['number'], item['type'], item['name'], check_dir(item['number'])))\n",
    "\n",
    "def check_command(command):\n",
    "    while (command != 'q'):\n",
    "        command = input(\"Введите команду:\")\n",
    "        if command == 'l':\n",
    "            full_info()\n",
    "        elif command == 'q':\n",
    "            break;\n",
    "\n",
    "check_command('e')"
   ]
  },
  {
   "cell_type": "markdown",
   "metadata": {},
   "source": [
    "Пункт 4 - не могу понять как вывод сделать исключительно в виде перечня ключей, то есть кавычек и слова dict_keys. Погуглив, нашел метод join, но не уверен насколько он верен. Подскажите плз."
   ]
  },
  {
   "cell_type": "code",
   "execution_count": 40,
   "metadata": {},
   "outputs": [
    {
     "name": "stdout",
     "output_type": "stream",
     "text": [
      "Введите команду:ads\n",
      "Введите номер полки:4\n",
      "('Полка добавлена. Текущий перечень полок:', '1,2,3,4')\n",
      "Введите команду:ads\n",
      "Введите номер полки:3\n",
      "('Полка добавлена. Текущий перечень полок:', '1,2,3,4')\n",
      "Введите команду:q\n"
     ]
    }
   ],
   "source": [
    "def add_dir(num):\n",
    "    for k,v in directories.items():\n",
    "        if k == num:\n",
    "            return 'Такая полка уже существует. Текущий перечень полок:', ','.join(directories.keys())\n",
    "        else:\n",
    "            directories[num] = []\n",
    "            return 'Полка добавлена. Текущий перечень полок:', ','.join(directories.keys())\n",
    "\n",
    "\n",
    "def check_command(command):\n",
    "    while (command != 'q'):\n",
    "        command = input(\"Введите команду:\")\n",
    "        if command == 'ads':\n",
    "            num = str(input(\"Введите номер полки:\"))\n",
    "            print(add_dir(num))\n",
    "        elif command == 'q':\n",
    "            break;\n",
    "\n",
    "check_command('e')"
   ]
  },
  {
   "cell_type": "markdown",
   "metadata": {},
   "source": [
    "Пункт 5"
   ]
  },
  {
   "cell_type": "code",
   "execution_count": 78,
   "metadata": {},
   "outputs": [
    {
     "name": "stdout",
     "output_type": "stream",
     "text": [
      "Введите команду:q\n"
     ]
    }
   ],
   "source": [
    "def del_dir(num):\n",
    "    for k,v in directories.items():\n",
    "        if (k == num) and (bool(directories[k]) == False):\n",
    "            del(directories[num])\n",
    "            return 'Полка удалена. Текущий перечень полок:', ','.join(directories.keys())\n",
    "        elif k == num and (bool(directories[k]) != False):\n",
    "            return 'На полке есть документ, удалите их перед удалением полки. Текущий перечень полок:', ','.join(directories.keys())\n",
    "    return 'Такой полки не существует. Текущий перечень полок:', ','.join(directories.keys())\n",
    "\n",
    "\n",
    "def check_command(command):\n",
    "    while (command != 'q'):\n",
    "        command = input(\"Введите команду:\")\n",
    "        if command == 'ds':\n",
    "            num = str(input(\"Введите номер полки:\"))\n",
    "            print(del_dir(num))\n",
    "        elif command == 'q':\n",
    "            break;\n",
    "\n",
    "check_command('e')"
   ]
  },
  {
   "cell_type": "markdown",
   "metadata": {},
   "source": [
    "Задание 2\n",
    "Пункт 1 - не уверен на сколько это лаконичное решение,но был бы рад услышать альтернативы. "
   ]
  },
  {
   "cell_type": "code",
   "execution_count": null,
   "metadata": {},
   "outputs": [
    {
     "name": "stdout",
     "output_type": "stream",
     "text": [
      "Введите команду:ad\n",
      "Введите номер документа:3333\n",
      "Введите тип документа:typp\n",
      "Введите владельца документа:aibat\n",
      "Введите полку для хранения:4\n",
      "Такой полки не существует. Добавьте полку командой as. \n",
      "Такой полки не существует. Добавьте полку командой as. \n",
      "Такой полки не существует. Добавьте полку командой as. \n",
      "Документ добавлен. Текущий список документов:\n",
      "№: 2207 876234, тип: passport, владелец: Василий Гупкин, полка хранения: 1\n",
      "№: 11-2, тип: invoice, владелец: Геннадий Покемонов, полка хранения: 1\n",
      "№: 10006, тип: insurance, владелец: Аристарх Павлов, полка хранения: 2\n",
      "№: 3333, тип: typp, владелец: aibat, полка хранения: None\n"
     ]
    }
   ],
   "source": [
    "#Выводим список документов с директорией\n",
    "def all_print():\n",
    "    for item in documents:\n",
    "        print('№: {}, тип: {}, владелец: {}, полка хранения: {}'.format(item['number'], item['type'], item['name'], all_dirs(item['number'])))\n",
    "\n",
    "#Получаем ключ директории\n",
    "def all_dirs(num):\n",
    "    for k,v in directories.items():\n",
    "        for item in v:\n",
    "            if num == item:\n",
    "                return k;\n",
    "\n",
    "def add_doc(num, typ, owner,shelv):\n",
    "    new_dic = {'type':typ, 'number':num, 'name':owner}\n",
    "    documents.append(new_dic)\n",
    "    for k, v in directories.items():\n",
    "        if k == shelv:\n",
    "            directories[k].append(num)\n",
    "        else:\n",
    "            print('Такой полки не существует. Добавьте полку командой as. ')\n",
    "    print('Документ добавлен. Текущий список документов:')\n",
    "    return all_print()\n",
    "\n",
    "\n",
    "\n",
    "def check_command(command):\n",
    "    while (command != 'q'):\n",
    "        command = input(\"Введите команду:\")\n",
    "        if command == 'ad':\n",
    "            n = str(input(\"Введите номер документа:\"))\n",
    "            t = str(input(\"Введите тип документа:\"))\n",
    "            o = str(input(\"Введите владельца документа:\"))\n",
    "            s = str(input(\"Введите полку для хранения:\"))\n",
    "            add_doc(n,t,o,s)\n",
    "        elif command == 'q':\n",
    "            break;\n",
    "\n",
    "check_command('e')"
   ]
  },
  {
   "cell_type": "markdown",
   "metadata": {},
   "source": [
    "Пункт 2 - получилось реализовать задачу частично, вот не могу понять как мне привести тому выводу, который идет согласоно заданию, то есть не могу в одном принте выдать сразу инфо о Документах и Директории. Поэтому и вывожу отдельно. И не могли объяснить в чем разница между return and print, так как где-то срабатывает print как нужно, а где то return."
   ]
  },
  {
   "cell_type": "code",
   "execution_count": 79,
   "metadata": {},
   "outputs": [
    {
     "name": "stdout",
     "output_type": "stream",
     "text": [
      "№: 2207 876234, тип: passport, владелец: Василий Гупкин\n",
      "№: 11-2, тип: invoice, владелец: Геннадий Покемонов\n",
      "полки хранения:{'1': ['2207 876234'], '2': ['10006'], '3': []}\n"
     ]
    }
   ],
   "source": [
    "def del_doc(num):\n",
    "    for idx, item in enumerate(documents):\n",
    "        if item['number'] == num:\n",
    "            del(documents[idx])\n",
    "        print('№: {}, тип: {}, владелец: {}'.format(item['number'], item['type'], item['name']))\n",
    "    for k,v in directories.items():\n",
    "        for items in v:\n",
    "            if items == num:\n",
    "                del(directories[k][directories[k].index(num)])\n",
    "    print('полки хранения:{}'.format(directories)) \n",
    "\n",
    "def check_command(command):\n",
    "    while (command != 'q'):\n",
    "        command = input(\"Введите команду:\")\n",
    "        if command == 'd':\n",
    "            num = str(input(\"Введите номер документа:\"))\n",
    "            print(del_doc(num))\n",
    "        elif command == 'q':\n",
    "            break;\n",
    "\n",
    "check_command('e')"
   ]
  },
  {
   "cell_type": "code",
   "execution_count": null,
   "metadata": {},
   "outputs": [],
   "source": [
    "\n"
   ]
  },
  {
   "cell_type": "code",
   "execution_count": null,
   "metadata": {},
   "outputs": [],
   "source": []
  },
  {
   "cell_type": "code",
   "execution_count": null,
   "metadata": {},
   "outputs": [],
   "source": []
  }
 ],
 "metadata": {
  "kernelspec": {
   "display_name": "Python 3",
   "language": "python",
   "name": "python3"
  },
  "language_info": {
   "codemirror_mode": {
    "name": "ipython",
    "version": 3
   },
   "file_extension": ".py",
   "mimetype": "text/x-python",
   "name": "python",
   "nbconvert_exporter": "python",
   "pygments_lexer": "ipython3",
   "version": "3.7.4"
  }
 },
 "nbformat": 4,
 "nbformat_minor": 2
}
