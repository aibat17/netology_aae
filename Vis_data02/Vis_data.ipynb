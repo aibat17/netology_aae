{
 "cells": [
  {
   "cell_type": "code",
   "execution_count": 59,
   "metadata": {},
   "outputs": [],
   "source": [
    "import pandas as pd\n",
    "import seaborn as sns\n",
    "import matplotlib.pyplot as plt"
   ]
  },
  {
   "cell_type": "code",
   "execution_count": 46,
   "metadata": {},
   "outputs": [],
   "source": [
    "from pylab import rcParams\n",
    "rcParams['figure.figsize'] = 13,6"
   ]
  },
  {
   "cell_type": "code",
   "execution_count": 2,
   "metadata": {},
   "outputs": [],
   "source": [
    "google = pd.read_csv('googleplaystore.csv')"
   ]
  },
  {
   "cell_type": "code",
   "execution_count": 14,
   "metadata": {},
   "outputs": [
    {
     "data": {
      "text/html": [
       "<div>\n",
       "<style scoped>\n",
       "    .dataframe tbody tr th:only-of-type {\n",
       "        vertical-align: middle;\n",
       "    }\n",
       "\n",
       "    .dataframe tbody tr th {\n",
       "        vertical-align: top;\n",
       "    }\n",
       "\n",
       "    .dataframe thead th {\n",
       "        text-align: right;\n",
       "    }\n",
       "</style>\n",
       "<table border=\"1\" class=\"dataframe\">\n",
       "  <thead>\n",
       "    <tr style=\"text-align: right;\">\n",
       "      <th></th>\n",
       "      <th>App</th>\n",
       "      <th>Category</th>\n",
       "      <th>Rating</th>\n",
       "      <th>Reviews</th>\n",
       "      <th>Size</th>\n",
       "      <th>Installs</th>\n",
       "      <th>Type</th>\n",
       "      <th>Price</th>\n",
       "      <th>Content Rating</th>\n",
       "      <th>Genres</th>\n",
       "      <th>Last Updated</th>\n",
       "      <th>Current Ver</th>\n",
       "      <th>Android Ver</th>\n",
       "    </tr>\n",
       "  </thead>\n",
       "  <tbody>\n",
       "    <tr>\n",
       "      <td>0</td>\n",
       "      <td>Photo Editor &amp; Candy Camera &amp; Grid &amp; ScrapBook</td>\n",
       "      <td>ART_AND_DESIGN</td>\n",
       "      <td>4.1</td>\n",
       "      <td>159</td>\n",
       "      <td>19M</td>\n",
       "      <td>10,000+</td>\n",
       "      <td>Free</td>\n",
       "      <td>0</td>\n",
       "      <td>Everyone</td>\n",
       "      <td>Art &amp; Design</td>\n",
       "      <td>January 7, 2018</td>\n",
       "      <td>1.0.0</td>\n",
       "      <td>4.0.3 and up</td>\n",
       "    </tr>\n",
       "    <tr>\n",
       "      <td>1</td>\n",
       "      <td>Coloring book moana</td>\n",
       "      <td>ART_AND_DESIGN</td>\n",
       "      <td>3.9</td>\n",
       "      <td>967</td>\n",
       "      <td>14M</td>\n",
       "      <td>500,000+</td>\n",
       "      <td>Free</td>\n",
       "      <td>0</td>\n",
       "      <td>Everyone</td>\n",
       "      <td>Art &amp; Design;Pretend Play</td>\n",
       "      <td>January 15, 2018</td>\n",
       "      <td>2.0.0</td>\n",
       "      <td>4.0.3 and up</td>\n",
       "    </tr>\n",
       "    <tr>\n",
       "      <td>2</td>\n",
       "      <td>U Launcher Lite – FREE Live Cool Themes, Hide ...</td>\n",
       "      <td>ART_AND_DESIGN</td>\n",
       "      <td>4.7</td>\n",
       "      <td>87510</td>\n",
       "      <td>8.7M</td>\n",
       "      <td>5,000,000+</td>\n",
       "      <td>Free</td>\n",
       "      <td>0</td>\n",
       "      <td>Everyone</td>\n",
       "      <td>Art &amp; Design</td>\n",
       "      <td>August 1, 2018</td>\n",
       "      <td>1.2.4</td>\n",
       "      <td>4.0.3 and up</td>\n",
       "    </tr>\n",
       "    <tr>\n",
       "      <td>3</td>\n",
       "      <td>Sketch - Draw &amp; Paint</td>\n",
       "      <td>ART_AND_DESIGN</td>\n",
       "      <td>4.5</td>\n",
       "      <td>215644</td>\n",
       "      <td>25M</td>\n",
       "      <td>50,000,000+</td>\n",
       "      <td>Free</td>\n",
       "      <td>0</td>\n",
       "      <td>Teen</td>\n",
       "      <td>Art &amp; Design</td>\n",
       "      <td>June 8, 2018</td>\n",
       "      <td>Varies with device</td>\n",
       "      <td>4.2 and up</td>\n",
       "    </tr>\n",
       "    <tr>\n",
       "      <td>4</td>\n",
       "      <td>Pixel Draw - Number Art Coloring Book</td>\n",
       "      <td>ART_AND_DESIGN</td>\n",
       "      <td>4.3</td>\n",
       "      <td>967</td>\n",
       "      <td>2.8M</td>\n",
       "      <td>100,000+</td>\n",
       "      <td>Free</td>\n",
       "      <td>0</td>\n",
       "      <td>Everyone</td>\n",
       "      <td>Art &amp; Design;Creativity</td>\n",
       "      <td>June 20, 2018</td>\n",
       "      <td>1.1</td>\n",
       "      <td>4.4 and up</td>\n",
       "    </tr>\n",
       "  </tbody>\n",
       "</table>\n",
       "</div>"
      ],
      "text/plain": [
       "                                                 App        Category  Rating  \\\n",
       "0     Photo Editor & Candy Camera & Grid & ScrapBook  ART_AND_DESIGN     4.1   \n",
       "1                                Coloring book moana  ART_AND_DESIGN     3.9   \n",
       "2  U Launcher Lite – FREE Live Cool Themes, Hide ...  ART_AND_DESIGN     4.7   \n",
       "3                              Sketch - Draw & Paint  ART_AND_DESIGN     4.5   \n",
       "4              Pixel Draw - Number Art Coloring Book  ART_AND_DESIGN     4.3   \n",
       "\n",
       "  Reviews  Size     Installs  Type Price Content Rating  \\\n",
       "0     159   19M      10,000+  Free     0       Everyone   \n",
       "1     967   14M     500,000+  Free     0       Everyone   \n",
       "2   87510  8.7M   5,000,000+  Free     0       Everyone   \n",
       "3  215644   25M  50,000,000+  Free     0           Teen   \n",
       "4     967  2.8M     100,000+  Free     0       Everyone   \n",
       "\n",
       "                      Genres      Last Updated         Current Ver  \\\n",
       "0               Art & Design   January 7, 2018               1.0.0   \n",
       "1  Art & Design;Pretend Play  January 15, 2018               2.0.0   \n",
       "2               Art & Design    August 1, 2018               1.2.4   \n",
       "3               Art & Design      June 8, 2018  Varies with device   \n",
       "4    Art & Design;Creativity     June 20, 2018                 1.1   \n",
       "\n",
       "    Android Ver  \n",
       "0  4.0.3 and up  \n",
       "1  4.0.3 and up  \n",
       "2  4.0.3 and up  \n",
       "3    4.2 and up  \n",
       "4    4.4 and up  "
      ]
     },
     "execution_count": 14,
     "metadata": {},
     "output_type": "execute_result"
    }
   ],
   "source": [
    "google.head()"
   ]
  },
  {
   "cell_type": "code",
   "execution_count": 5,
   "metadata": {},
   "outputs": [
    {
     "name": "stdout",
     "output_type": "stream",
     "text": [
      "<class 'pandas.core.frame.DataFrame'>\n",
      "RangeIndex: 10841 entries, 0 to 10840\n",
      "Data columns (total 13 columns):\n",
      "App               10841 non-null object\n",
      "Category          10841 non-null object\n",
      "Rating            9367 non-null float64\n",
      "Reviews           10841 non-null object\n",
      "Size              10841 non-null object\n",
      "Installs          10841 non-null object\n",
      "Type              10840 non-null object\n",
      "Price             10841 non-null object\n",
      "Content Rating    10840 non-null object\n",
      "Genres            10841 non-null object\n",
      "Last Updated      10841 non-null object\n",
      "Current Ver       10833 non-null object\n",
      "Android Ver       10838 non-null object\n",
      "dtypes: float64(1), object(12)\n",
      "memory usage: 1.1+ MB\n"
     ]
    }
   ],
   "source": [
    "google.info()"
   ]
  },
  {
   "cell_type": "code",
   "execution_count": 30,
   "metadata": {},
   "outputs": [
    {
     "data": {
      "text/plain": [
       "App                0.00\n",
       "Category           0.00\n",
       "Rating            14.74\n",
       "Reviews            0.00\n",
       "Size               0.00\n",
       "Installs           0.00\n",
       "Type               0.01\n",
       "Price              0.00\n",
       "Content Rating     0.01\n",
       "Genres             0.00\n",
       "Last Updated       0.00\n",
       "Current Ver        0.08\n",
       "Android Ver        0.03\n",
       "dtype: float64"
      ]
     },
     "execution_count": 30,
     "metadata": {},
     "output_type": "execute_result"
    }
   ],
   "source": [
    "#1\n",
    "#посмотрим % пропуска\n",
    "(google.isna().sum() / 100).round(2)"
   ]
  },
  {
   "cell_type": "code",
   "execution_count": 37,
   "metadata": {},
   "outputs": [
    {
     "data": {
      "text/plain": [
       "count    9367.000000\n",
       "mean        4.193338\n",
       "std         0.537431\n",
       "min         1.000000\n",
       "25%         4.000000\n",
       "50%         4.300000\n",
       "75%         4.500000\n",
       "max        19.000000\n",
       "Name: Rating, dtype: float64"
      ]
     },
     "execution_count": 37,
     "metadata": {},
     "output_type": "execute_result"
    }
   ],
   "source": [
    "#1\n",
    "#Видим, что есть пропуски, в столбце Rating предлагаю заполнить медианой. Снимаем исходное значение\n",
    "\n",
    "google['Rating'].describe()"
   ]
  },
  {
   "cell_type": "code",
   "execution_count": 41,
   "metadata": {},
   "outputs": [],
   "source": [
    "google['Rating'] = google['Rating'].fillna(google['Rating'].median())"
   ]
  },
  {
   "cell_type": "code",
   "execution_count": 43,
   "metadata": {},
   "outputs": [
    {
     "name": "stdout",
     "output_type": "stream",
     "text": [
      "<class 'pandas.core.frame.DataFrame'>\n",
      "RangeIndex: 10841 entries, 0 to 10840\n",
      "Data columns (total 13 columns):\n",
      "App               10841 non-null object\n",
      "Category          10841 non-null object\n",
      "Rating            10841 non-null float64\n",
      "Reviews           10841 non-null object\n",
      "Size              10841 non-null object\n",
      "Installs          10841 non-null object\n",
      "Type              10840 non-null object\n",
      "Price             10841 non-null object\n",
      "Content Rating    10840 non-null object\n",
      "Genres            10841 non-null object\n",
      "Last Updated      10841 non-null object\n",
      "Current Ver       10833 non-null object\n",
      "Android Ver       10838 non-null object\n",
      "dtypes: float64(1), object(12)\n",
      "memory usage: 1.1+ MB\n"
     ]
    }
   ],
   "source": [
    "google.info()"
   ]
  },
  {
   "cell_type": "code",
   "execution_count": 62,
   "metadata": {},
   "outputs": [
    {
     "data": {
      "text/plain": [
       "<matplotlib.axes._subplots.AxesSubplot at 0x1e6fd4bd388>"
      ]
     },
     "execution_count": 62,
     "metadata": {},
     "output_type": "execute_result"
    },
    {
     "data": {
      "image/png": "[encoded data removed]",
      "text/plain": [
       "<Figure size 936x432 with 1 Axes>"
      ]
     },
     "metadata": {
      "needs_background": "light"
     },
     "output_type": "display_data"
    }
   ],
   "source": [
    "#2\n",
    "#Посмотрим Выбросы по столбцу Rating, с помощью Box plot\n",
    "#Видим явный выброс, смотрим на него ниже\n",
    "\n",
    "sns.boxplot(x=google['Rating'])"
   ]
  },
  {
   "cell_type": "code",
   "execution_count": 66,
   "metadata": {},
   "outputs": [],
   "source": [
    "#3\n",
    "#Решаю удалить все выбросы (715 строк), но тут ПОДСКАЖИТЕ НАСКОЛЬКО ВЕРНО УДАЛЯТЬ ИХ ВСЕ??? НАСКОЛЬКО Я ПОНЯЛ МЫ ИХ УДАЛЯЕМ\n",
    "#ДЛЯ СКАЖЕМ ТАК НОРМАЛЬНОГО РАСПРЕДЕЛЕНИЯ\n",
    "\n",
    "q1 = google['Rating'].quantile(0.25)\n",
    "q3 = google['Rating'].quantile(0.75)\n",
    "iqr = q3 - q1\n",
    "\n",
    "lower_bound = q1 - (1.5 * iqr)\n",
    "upper_bound = q3 + (1.5 * iqr)\n",
    "remove_outliers = google[google['Rating'].between(lower_bound,upper_bound,inclusive=True)].sort_values('Rating')\n"
   ]
  },
  {
   "cell_type": "code",
   "execution_count": 70,
   "metadata": {},
   "outputs": [
    {
     "name": "stdout",
     "output_type": "stream",
     "text": [
      "<class 'pandas.core.frame.DataFrame'>\n",
      "Int64Index: 10107 entries, 10134 to 6494\n",
      "Data columns (total 13 columns):\n",
      "App               10107 non-null object\n",
      "Category          10107 non-null object\n",
      "Rating            10107 non-null float64\n",
      "Reviews           10107 non-null object\n",
      "Size              10107 non-null object\n",
      "Installs          10107 non-null object\n",
      "Type              10106 non-null object\n",
      "Price             10107 non-null object\n",
      "Content Rating    10107 non-null object\n",
      "Genres            10107 non-null object\n",
      "Last Updated      10107 non-null object\n",
      "Current Ver       10100 non-null object\n",
      "Android Ver       10105 non-null object\n",
      "dtypes: float64(1), object(12)\n",
      "memory usage: 1.1+ MB\n"
     ]
    }
   ],
   "source": [
    "remove_outliers.info()"
   ]
  },
  {
   "cell_type": "code",
   "execution_count": 74,
   "metadata": {},
   "outputs": [
    {
     "data": {
      "text/html": [
       "<div>\n",
       "<style scoped>\n",
       "    .dataframe tbody tr th:only-of-type {\n",
       "        vertical-align: middle;\n",
       "    }\n",
       "\n",
       "    .dataframe tbody tr th {\n",
       "        vertical-align: top;\n",
       "    }\n",
       "\n",
       "    .dataframe thead th {\n",
       "        text-align: right;\n",
       "    }\n",
       "</style>\n",
       "<table border=\"1\" class=\"dataframe\">\n",
       "  <thead>\n",
       "    <tr style=\"text-align: right;\">\n",
       "      <th></th>\n",
       "      <th>App</th>\n",
       "      <th>Category</th>\n",
       "      <th>Rating</th>\n",
       "      <th>Reviews</th>\n",
       "      <th>Size</th>\n",
       "      <th>Installs</th>\n",
       "      <th>Type</th>\n",
       "      <th>Price</th>\n",
       "      <th>Content Rating</th>\n",
       "      <th>Genres</th>\n",
       "      <th>Last Updated</th>\n",
       "      <th>Current Ver</th>\n",
       "      <th>Android Ver</th>\n",
       "    </tr>\n",
       "  </thead>\n",
       "  <tbody>\n",
       "    <tr>\n",
       "      <td>245</td>\n",
       "      <td>Xero Accounting Software</td>\n",
       "      <td>BUSINESS</td>\n",
       "      <td>3.5</td>\n",
       "      <td>2111</td>\n",
       "      <td>Varies with device</td>\n",
       "      <td>100,000+</td>\n",
       "      <td>Free</td>\n",
       "      <td>0</td>\n",
       "      <td>Everyone</td>\n",
       "      <td>Business</td>\n",
       "      <td>July 30, 2018</td>\n",
       "      <td>Varies with device</td>\n",
       "      <td>Varies with device</td>\n",
       "    </tr>\n",
       "    <tr>\n",
       "      <td>3160</td>\n",
       "      <td>United Airlines</td>\n",
       "      <td>TRAVEL_AND_LOCAL</td>\n",
       "      <td>3.5</td>\n",
       "      <td>30447</td>\n",
       "      <td>80M</td>\n",
       "      <td>5,000,000+</td>\n",
       "      <td>Free</td>\n",
       "      <td>0</td>\n",
       "      <td>Everyone</td>\n",
       "      <td>Travel &amp; Local</td>\n",
       "      <td>July 20, 2018</td>\n",
       "      <td>2.1.56</td>\n",
       "      <td>5.0 and up</td>\n",
       "    </tr>\n",
       "    <tr>\n",
       "      <td>604</td>\n",
       "      <td>Free Cam Girls - Live Webcam</td>\n",
       "      <td>DATING</td>\n",
       "      <td>3.5</td>\n",
       "      <td>35</td>\n",
       "      <td>16M</td>\n",
       "      <td>1,000+</td>\n",
       "      <td>Free</td>\n",
       "      <td>0</td>\n",
       "      <td>Mature 17+</td>\n",
       "      <td>Dating</td>\n",
       "      <td>July 16, 2018</td>\n",
       "      <td>2.4</td>\n",
       "      <td>4.0.3 and up</td>\n",
       "    </tr>\n",
       "    <tr>\n",
       "      <td>2301</td>\n",
       "      <td>A Manual of Acupuncture</td>\n",
       "      <td>MEDICAL</td>\n",
       "      <td>3.5</td>\n",
       "      <td>214</td>\n",
       "      <td>68M</td>\n",
       "      <td>1,000+</td>\n",
       "      <td>Paid</td>\n",
       "      <td>$33.99</td>\n",
       "      <td>Everyone</td>\n",
       "      <td>Medical</td>\n",
       "      <td>October 2, 2017</td>\n",
       "      <td>2.1.35</td>\n",
       "      <td>4.0 and up</td>\n",
       "    </tr>\n",
       "    <tr>\n",
       "      <td>1418</td>\n",
       "      <td>MealLogger-Photo Food Journal</td>\n",
       "      <td>HEALTH_AND_FITNESS</td>\n",
       "      <td>3.5</td>\n",
       "      <td>217</td>\n",
       "      <td>9.4M</td>\n",
       "      <td>50,000+</td>\n",
       "      <td>Free</td>\n",
       "      <td>0</td>\n",
       "      <td>Teen</td>\n",
       "      <td>Health &amp; Fitness</td>\n",
       "      <td>August 23, 2017</td>\n",
       "      <td>4.6.2</td>\n",
       "      <td>4.0.3 and up</td>\n",
       "    </tr>\n",
       "    <tr>\n",
       "      <td>...</td>\n",
       "      <td>...</td>\n",
       "      <td>...</td>\n",
       "      <td>...</td>\n",
       "      <td>...</td>\n",
       "      <td>...</td>\n",
       "      <td>...</td>\n",
       "      <td>...</td>\n",
       "      <td>...</td>\n",
       "      <td>...</td>\n",
       "      <td>...</td>\n",
       "      <td>...</td>\n",
       "      <td>...</td>\n",
       "      <td>...</td>\n",
       "    </tr>\n",
       "    <tr>\n",
       "      <td>685</td>\n",
       "      <td>Live Girls Talk - Free Video Chat</td>\n",
       "      <td>DATING</td>\n",
       "      <td>4.8</td>\n",
       "      <td>125</td>\n",
       "      <td>4.7M</td>\n",
       "      <td>5,000+</td>\n",
       "      <td>Free</td>\n",
       "      <td>0</td>\n",
       "      <td>Mature 17+</td>\n",
       "      <td>Dating</td>\n",
       "      <td>July 8, 2018</td>\n",
       "      <td>8.2</td>\n",
       "      <td>4.0.3 and up</td>\n",
       "    </tr>\n",
       "    <tr>\n",
       "      <td>687</td>\n",
       "      <td>Girls Live Chat - Free Text &amp; Video Chat</td>\n",
       "      <td>DATING</td>\n",
       "      <td>4.8</td>\n",
       "      <td>110</td>\n",
       "      <td>4.9M</td>\n",
       "      <td>10,000+</td>\n",
       "      <td>Free</td>\n",
       "      <td>0</td>\n",
       "      <td>Mature 17+</td>\n",
       "      <td>Dating</td>\n",
       "      <td>July 9, 2018</td>\n",
       "      <td>8.2</td>\n",
       "      <td>4.0.3 and up</td>\n",
       "    </tr>\n",
       "    <tr>\n",
       "      <td>7035</td>\n",
       "      <td>420 BZ Budeze Delivery</td>\n",
       "      <td>MEDICAL</td>\n",
       "      <td>5.0</td>\n",
       "      <td>2</td>\n",
       "      <td>11M</td>\n",
       "      <td>100+</td>\n",
       "      <td>Free</td>\n",
       "      <td>0</td>\n",
       "      <td>Mature 17+</td>\n",
       "      <td>Medical</td>\n",
       "      <td>June 6, 2018</td>\n",
       "      <td>1.0.1</td>\n",
       "      <td>4.1 and up</td>\n",
       "    </tr>\n",
       "    <tr>\n",
       "      <td>6593</td>\n",
       "      <td>BP Journal - Blood Pressure Diary</td>\n",
       "      <td>MEDICAL</td>\n",
       "      <td>5.0</td>\n",
       "      <td>6</td>\n",
       "      <td>26M</td>\n",
       "      <td>1,000+</td>\n",
       "      <td>Free</td>\n",
       "      <td>0</td>\n",
       "      <td>Everyone</td>\n",
       "      <td>Medical</td>\n",
       "      <td>May 25, 2018</td>\n",
       "      <td>1.0.32</td>\n",
       "      <td>4.4 and up</td>\n",
       "    </tr>\n",
       "    <tr>\n",
       "      <td>2427</td>\n",
       "      <td>Sway Medical</td>\n",
       "      <td>MEDICAL</td>\n",
       "      <td>5.0</td>\n",
       "      <td>3</td>\n",
       "      <td>22M</td>\n",
       "      <td>100+</td>\n",
       "      <td>Free</td>\n",
       "      <td>0</td>\n",
       "      <td>Everyone</td>\n",
       "      <td>Medical</td>\n",
       "      <td>July 25, 2018</td>\n",
       "      <td>3.0.0</td>\n",
       "      <td>5.0 and up</td>\n",
       "    </tr>\n",
       "  </tbody>\n",
       "</table>\n",
       "<p>473 rows × 13 columns</p>\n",
       "</div>"
      ],
      "text/plain": [
       "                                           App            Category  Rating  \\\n",
       "245                   Xero Accounting Software            BUSINESS     3.5   \n",
       "3160                           United Airlines    TRAVEL_AND_LOCAL     3.5   \n",
       "604               Free Cam Girls - Live Webcam              DATING     3.5   \n",
       "2301                   A Manual of Acupuncture             MEDICAL     3.5   \n",
       "1418             MealLogger-Photo Food Journal  HEALTH_AND_FITNESS     3.5   \n",
       "...                                        ...                 ...     ...   \n",
       "685          Live Girls Talk - Free Video Chat              DATING     4.8   \n",
       "687   Girls Live Chat - Free Text & Video Chat              DATING     4.8   \n",
       "7035                    420 BZ Budeze Delivery             MEDICAL     5.0   \n",
       "6593         BP Journal - Blood Pressure Diary             MEDICAL     5.0   \n",
       "2427                              Sway Medical             MEDICAL     5.0   \n",
       "\n",
       "     Reviews                Size    Installs  Type   Price Content Rating  \\\n",
       "245     2111  Varies with device    100,000+  Free       0       Everyone   \n",
       "3160   30447                 80M  5,000,000+  Free       0       Everyone   \n",
       "604       35                 16M      1,000+  Free       0     Mature 17+   \n",
       "2301     214                 68M      1,000+  Paid  $33.99       Everyone   \n",
       "1418     217                9.4M     50,000+  Free       0           Teen   \n",
       "...      ...                 ...         ...   ...     ...            ...   \n",
       "685      125                4.7M      5,000+  Free       0     Mature 17+   \n",
       "687      110                4.9M     10,000+  Free       0     Mature 17+   \n",
       "7035       2                 11M        100+  Free       0     Mature 17+   \n",
       "6593       6                 26M      1,000+  Free       0       Everyone   \n",
       "2427       3                 22M        100+  Free       0       Everyone   \n",
       "\n",
       "                Genres     Last Updated         Current Ver  \\\n",
       "245           Business    July 30, 2018  Varies with device   \n",
       "3160    Travel & Local    July 20, 2018              2.1.56   \n",
       "604             Dating    July 16, 2018                 2.4   \n",
       "2301           Medical  October 2, 2017              2.1.35   \n",
       "1418  Health & Fitness  August 23, 2017               4.6.2   \n",
       "...                ...              ...                 ...   \n",
       "685             Dating     July 8, 2018                 8.2   \n",
       "687             Dating     July 9, 2018                 8.2   \n",
       "7035           Medical     June 6, 2018               1.0.1   \n",
       "6593           Medical     May 25, 2018              1.0.32   \n",
       "2427           Medical    July 25, 2018               3.0.0   \n",
       "\n",
       "             Android Ver  \n",
       "245   Varies with device  \n",
       "3160          5.0 and up  \n",
       "604         4.0.3 and up  \n",
       "2301          4.0 and up  \n",
       "1418        4.0.3 and up  \n",
       "...                  ...  \n",
       "685         4.0.3 and up  \n",
       "687         4.0.3 and up  \n",
       "7035          4.1 and up  \n",
       "6593          4.4 and up  \n",
       "2427          5.0 and up  \n",
       "\n",
       "[473 rows x 13 columns]"
      ]
     },
     "execution_count": 74,
     "metadata": {},
     "output_type": "execute_result"
    }
   ],
   "source": [
    "#4\n",
    "#проверяем на наличие Дубликатов и видим что их 473 строки - удаляем их.\n",
    " \n",
    "duplicate_rows = remove_outliers[remove_outliers.duplicated()]\n",
    "duplicate_rows"
   ]
  },
  {
   "cell_type": "code",
   "execution_count": 76,
   "metadata": {},
   "outputs": [
    {
     "name": "stdout",
     "output_type": "stream",
     "text": [
      "<class 'pandas.core.frame.DataFrame'>\n",
      "Int64Index: 9634 entries, 10134 to 6494\n",
      "Data columns (total 13 columns):\n",
      "App               9634 non-null object\n",
      "Category          9634 non-null object\n",
      "Rating            9634 non-null float64\n",
      "Reviews           9634 non-null object\n",
      "Size              9634 non-null object\n",
      "Installs          9634 non-null object\n",
      "Type              9633 non-null object\n",
      "Price             9634 non-null object\n",
      "Content Rating    9634 non-null object\n",
      "Genres            9634 non-null object\n",
      "Last Updated      9634 non-null object\n",
      "Current Ver       9627 non-null object\n",
      "Android Ver       9632 non-null object\n",
      "dtypes: float64(1), object(12)\n",
      "memory usage: 1.0+ MB\n"
     ]
    }
   ],
   "source": [
    "#Удаляем дубликаты\n",
    "\n",
    "remove_outliers = remove_outliers.drop_duplicates()\n",
    "remove_outliers.info()"
   ]
  },
  {
   "cell_type": "code",
   "execution_count": 79,
   "metadata": {},
   "outputs": [],
   "source": [
    "#5\n",
    "#Заполняем или удаляем остаавшиеся пропуски. РЕШАЮ УДАЛИТЬ СТРОКИ С ПРОПУСКАМИ. \n",
    "\n",
    "remove_outliers = remove_outliers.dropna()"
   ]
  },
  {
   "cell_type": "code",
   "execution_count": 80,
   "metadata": {},
   "outputs": [
    {
     "name": "stdout",
     "output_type": "stream",
     "text": [
      "<class 'pandas.core.frame.DataFrame'>\n",
      "Int64Index: 9624 entries, 10134 to 6494\n",
      "Data columns (total 13 columns):\n",
      "App               9624 non-null object\n",
      "Category          9624 non-null object\n",
      "Rating            9624 non-null float64\n",
      "Reviews           9624 non-null object\n",
      "Size              9624 non-null object\n",
      "Installs          9624 non-null object\n",
      "Type              9624 non-null object\n",
      "Price             9624 non-null object\n",
      "Content Rating    9624 non-null object\n",
      "Genres            9624 non-null object\n",
      "Last Updated      9624 non-null object\n",
      "Current Ver       9624 non-null object\n",
      "Android Ver       9624 non-null object\n",
      "dtypes: float64(1), object(12)\n",
      "memory usage: 1.0+ MB\n"
     ]
    }
   ],
   "source": [
    "remove_outliers.info()"
   ]
  },
  {
   "cell_type": "code",
   "execution_count": 82,
   "metadata": {},
   "outputs": [
    {
     "data": {
      "text/plain": [
       "App               0.0\n",
       "Category          0.0\n",
       "Rating            0.0\n",
       "Reviews           0.0\n",
       "Size              0.0\n",
       "Installs          0.0\n",
       "Type              0.0\n",
       "Price             0.0\n",
       "Content Rating    0.0\n",
       "Genres            0.0\n",
       "Last Updated      0.0\n",
       "Current Ver       0.0\n",
       "Android Ver       0.0\n",
       "dtype: float64"
      ]
     },
     "execution_count": 82,
     "metadata": {},
     "output_type": "execute_result"
    }
   ],
   "source": [
    "#теперь все данные не имею пропусков. \n",
    "#ДУМАЮ, ЧТО МОЖНО СТРОИТЬ ГРАФИКИ И ДЕЛАТЬ СООТВЕТСТВУЮЩИЕ ВЫВОДЫ\n",
    "(remove_outliers.isna().sum() / 100).round(2)"
   ]
  },
  {
   "cell_type": "code",
   "execution_count": 111,
   "metadata": {},
   "outputs": [
    {
     "data": {
      "text/html": [
       "<div>\n",
       "<style scoped>\n",
       "    .dataframe tbody tr th:only-of-type {\n",
       "        vertical-align: middle;\n",
       "    }\n",
       "\n",
       "    .dataframe tbody tr th {\n",
       "        vertical-align: top;\n",
       "    }\n",
       "\n",
       "    .dataframe thead th {\n",
       "        text-align: right;\n",
       "    }\n",
       "</style>\n",
       "<table border=\"1\" class=\"dataframe\">\n",
       "  <thead>\n",
       "    <tr style=\"text-align: right;\">\n",
       "      <th></th>\n",
       "      <th>App</th>\n",
       "      <th>Category</th>\n",
       "      <th>Rating</th>\n",
       "      <th>Reviews</th>\n",
       "      <th>Size</th>\n",
       "      <th>Installs</th>\n",
       "      <th>Type</th>\n",
       "      <th>Price</th>\n",
       "      <th>Content Rating</th>\n",
       "      <th>Genres</th>\n",
       "      <th>Last Updated</th>\n",
       "      <th>Current Ver</th>\n",
       "      <th>Android Ver</th>\n",
       "    </tr>\n",
       "  </thead>\n",
       "  <tbody>\n",
       "    <tr>\n",
       "      <td>10134</td>\n",
       "      <td>EZ File Manager(Root Explorer)</td>\n",
       "      <td>PRODUCTIVITY</td>\n",
       "      <td>3.5</td>\n",
       "      <td>626</td>\n",
       "      <td>1.2M</td>\n",
       "      <td>100,000+</td>\n",
       "      <td>Free</td>\n",
       "      <td>0</td>\n",
       "      <td>Everyone</td>\n",
       "      <td>Productivity</td>\n",
       "      <td>June 23, 2015</td>\n",
       "      <td>1.1</td>\n",
       "      <td>3.2 and up</td>\n",
       "    </tr>\n",
       "    <tr>\n",
       "      <td>2392</td>\n",
       "      <td>GlassesOff</td>\n",
       "      <td>MEDICAL</td>\n",
       "      <td>3.5</td>\n",
       "      <td>1288</td>\n",
       "      <td>38M</td>\n",
       "      <td>100,000+</td>\n",
       "      <td>Free</td>\n",
       "      <td>0</td>\n",
       "      <td>Everyone</td>\n",
       "      <td>Medical</td>\n",
       "      <td>July 10, 2018</td>\n",
       "      <td>1.0.0.10</td>\n",
       "      <td>3.0 and up</td>\n",
       "    </tr>\n",
       "    <tr>\n",
       "      <td>4667</td>\n",
       "      <td>U-48 Submarine Commander Free</td>\n",
       "      <td>GAME</td>\n",
       "      <td>3.5</td>\n",
       "      <td>4575</td>\n",
       "      <td>3.8M</td>\n",
       "      <td>500,000+</td>\n",
       "      <td>Free</td>\n",
       "      <td>0</td>\n",
       "      <td>Everyone</td>\n",
       "      <td>Arcade</td>\n",
       "      <td>October 7, 2017</td>\n",
       "      <td>1.24</td>\n",
       "      <td>4.0.3 and up</td>\n",
       "    </tr>\n",
       "    <tr>\n",
       "      <td>10068</td>\n",
       "      <td>Ex Service Taxis</td>\n",
       "      <td>BUSINESS</td>\n",
       "      <td>3.5</td>\n",
       "      <td>15</td>\n",
       "      <td>8.0M</td>\n",
       "      <td>1,000+</td>\n",
       "      <td>Free</td>\n",
       "      <td>0</td>\n",
       "      <td>Everyone</td>\n",
       "      <td>Business</td>\n",
       "      <td>October 21, 2015</td>\n",
       "      <td>20.7.9.2</td>\n",
       "      <td>2.3 and up</td>\n",
       "    </tr>\n",
       "    <tr>\n",
       "      <td>7820</td>\n",
       "      <td>NetClient CS</td>\n",
       "      <td>BUSINESS</td>\n",
       "      <td>3.5</td>\n",
       "      <td>125</td>\n",
       "      <td>4.3M</td>\n",
       "      <td>10,000+</td>\n",
       "      <td>Free</td>\n",
       "      <td>0</td>\n",
       "      <td>Everyone</td>\n",
       "      <td>Business</td>\n",
       "      <td>January 5, 2018</td>\n",
       "      <td>1.2.2</td>\n",
       "      <td>3.0 and up</td>\n",
       "    </tr>\n",
       "    <tr>\n",
       "      <td>...</td>\n",
       "      <td>...</td>\n",
       "      <td>...</td>\n",
       "      <td>...</td>\n",
       "      <td>...</td>\n",
       "      <td>...</td>\n",
       "      <td>...</td>\n",
       "      <td>...</td>\n",
       "      <td>...</td>\n",
       "      <td>...</td>\n",
       "      <td>...</td>\n",
       "      <td>...</td>\n",
       "      <td>...</td>\n",
       "      <td>...</td>\n",
       "    </tr>\n",
       "    <tr>\n",
       "      <td>6275</td>\n",
       "      <td>BI APP</td>\n",
       "      <td>FINANCE</td>\n",
       "      <td>5.0</td>\n",
       "      <td>2</td>\n",
       "      <td>2.7M</td>\n",
       "      <td>100+</td>\n",
       "      <td>Free</td>\n",
       "      <td>0</td>\n",
       "      <td>Everyone</td>\n",
       "      <td>Finance</td>\n",
       "      <td>February 19, 2016</td>\n",
       "      <td>1.8</td>\n",
       "      <td>4.0 and up</td>\n",
       "    </tr>\n",
       "    <tr>\n",
       "      <td>5125</td>\n",
       "      <td>Ag Valley Cooperative</td>\n",
       "      <td>BUSINESS</td>\n",
       "      <td>5.0</td>\n",
       "      <td>6</td>\n",
       "      <td>74M</td>\n",
       "      <td>500+</td>\n",
       "      <td>Free</td>\n",
       "      <td>0</td>\n",
       "      <td>Everyone</td>\n",
       "      <td>Business</td>\n",
       "      <td>June 26, 2017</td>\n",
       "      <td>2.3</td>\n",
       "      <td>4.0 and up</td>\n",
       "    </tr>\n",
       "    <tr>\n",
       "      <td>6807</td>\n",
       "      <td>Jabbla BT</td>\n",
       "      <td>TOOLS</td>\n",
       "      <td>5.0</td>\n",
       "      <td>3</td>\n",
       "      <td>55k</td>\n",
       "      <td>100+</td>\n",
       "      <td>Free</td>\n",
       "      <td>0</td>\n",
       "      <td>Everyone</td>\n",
       "      <td>Tools</td>\n",
       "      <td>October 6, 2014</td>\n",
       "      <td>1.0</td>\n",
       "      <td>4.2 and up</td>\n",
       "    </tr>\n",
       "    <tr>\n",
       "      <td>7147</td>\n",
       "      <td>CB Heroes</td>\n",
       "      <td>SOCIAL</td>\n",
       "      <td>5.0</td>\n",
       "      <td>5</td>\n",
       "      <td>1.8M</td>\n",
       "      <td>5+</td>\n",
       "      <td>Free</td>\n",
       "      <td>0</td>\n",
       "      <td>Everyone</td>\n",
       "      <td>Social</td>\n",
       "      <td>August 4, 2018</td>\n",
       "      <td>1.2.4</td>\n",
       "      <td>5.0 and up</td>\n",
       "    </tr>\n",
       "    <tr>\n",
       "      <td>6494</td>\n",
       "      <td>BM speed test</td>\n",
       "      <td>TOOLS</td>\n",
       "      <td>5.0</td>\n",
       "      <td>1</td>\n",
       "      <td>3.7M</td>\n",
       "      <td>10+</td>\n",
       "      <td>Free</td>\n",
       "      <td>0</td>\n",
       "      <td>Everyone</td>\n",
       "      <td>Tools</td>\n",
       "      <td>July 13, 2018</td>\n",
       "      <td>2.0</td>\n",
       "      <td>4.4 and up</td>\n",
       "    </tr>\n",
       "  </tbody>\n",
       "</table>\n",
       "<p>9624 rows × 13 columns</p>\n",
       "</div>"
      ],
      "text/plain": [
       "                                  App      Category  Rating Reviews  Size  \\\n",
       "10134  EZ File Manager(Root Explorer)  PRODUCTIVITY     3.5     626  1.2M   \n",
       "2392                       GlassesOff       MEDICAL     3.5    1288   38M   \n",
       "4667    U-48 Submarine Commander Free          GAME     3.5    4575  3.8M   \n",
       "10068                Ex Service Taxis      BUSINESS     3.5      15  8.0M   \n",
       "7820                     NetClient CS      BUSINESS     3.5     125  4.3M   \n",
       "...                               ...           ...     ...     ...   ...   \n",
       "6275                           BI APP       FINANCE     5.0       2  2.7M   \n",
       "5125            Ag Valley Cooperative      BUSINESS     5.0       6   74M   \n",
       "6807                        Jabbla BT         TOOLS     5.0       3   55k   \n",
       "7147                        CB Heroes        SOCIAL     5.0       5  1.8M   \n",
       "6494                    BM speed test         TOOLS     5.0       1  3.7M   \n",
       "\n",
       "       Installs  Type Price Content Rating        Genres       Last Updated  \\\n",
       "10134  100,000+  Free     0       Everyone  Productivity      June 23, 2015   \n",
       "2392   100,000+  Free     0       Everyone       Medical      July 10, 2018   \n",
       "4667   500,000+  Free     0       Everyone        Arcade    October 7, 2017   \n",
       "10068    1,000+  Free     0       Everyone      Business   October 21, 2015   \n",
       "7820    10,000+  Free     0       Everyone      Business    January 5, 2018   \n",
       "...         ...   ...   ...            ...           ...                ...   \n",
       "6275       100+  Free     0       Everyone       Finance  February 19, 2016   \n",
       "5125       500+  Free     0       Everyone      Business      June 26, 2017   \n",
       "6807       100+  Free     0       Everyone         Tools    October 6, 2014   \n",
       "7147         5+  Free     0       Everyone        Social     August 4, 2018   \n",
       "6494        10+  Free     0       Everyone         Tools      July 13, 2018   \n",
       "\n",
       "      Current Ver   Android Ver  \n",
       "10134         1.1    3.2 and up  \n",
       "2392     1.0.0.10    3.0 and up  \n",
       "4667         1.24  4.0.3 and up  \n",
       "10068    20.7.9.2    2.3 and up  \n",
       "7820        1.2.2    3.0 and up  \n",
       "...           ...           ...  \n",
       "6275          1.8    4.0 and up  \n",
       "5125          2.3    4.0 and up  \n",
       "6807          1.0    4.2 and up  \n",
       "7147        1.2.4    5.0 and up  \n",
       "6494          2.0    4.4 and up  \n",
       "\n",
       "[9624 rows x 13 columns]"
      ]
     },
     "execution_count": 111,
     "metadata": {},
     "output_type": "execute_result"
    }
   ],
   "source": [
    "remove_outliers"
   ]
  },
  {
   "cell_type": "markdown",
   "metadata": {},
   "source": [
    "**Давайте посмотрим с помощью Histogram** количество скачиваний в зависимости от Жанра"
   ]
  },
  {
   "cell_type": "code",
   "execution_count": 85,
   "metadata": {},
   "outputs": [
    {
     "data": {
      "text/plain": [
       "Text(0.5, 0, 'Жанр')"
      ]
     },
     "execution_count": 85,
     "metadata": {},
     "output_type": "execute_result"
    },
    {
     "data": {
      "image/png": "[encoded data removed]",
      "text/plain": [
       "<Figure size 936x432 with 1 Axes>"
      ]
     },
     "metadata": {
      "needs_background": "light"
     },
     "output_type": "display_data"
    }
   ],
   "source": [
    "remove_outliers.Genres.value_counts().nlargest(40).plot(kind='bar')\n",
    "plt.title('Количество скачиваний Приложений по Жанрам')\n",
    "plt.ylabel('Количество скачиваний')\n",
    "plt.xlabel('Жанр')\n",
    "\n",
    "#ВЫВОД - ВИДИМ ЧТО ЖАНР = TOOLS ЯВЛЯЕТСЯ САМЫМ НАИБОЛЕЕ СКАЧИВАЕМЫМ"
   ]
  },
  {
   "cell_type": "markdown",
   "metadata": {},
   "source": [
    "**Распределение Рейтинга** с помощью Гистограммы"
   ]
  },
  {
   "cell_type": "code",
   "execution_count": 97,
   "metadata": {},
   "outputs": [
    {
     "data": {
      "text/plain": [
       "<matplotlib.axes._subplots.AxesSubplot at 0x1e680013488>"
      ]
     },
     "execution_count": 97,
     "metadata": {},
     "output_type": "execute_result"
    },
    {
     "data": {
      "image/png": "[encoded data removed]",
      "text/plain": [
       "<Figure size 936x432 with 1 Axes>"
      ]
     },
     "metadata": {
      "needs_background": "light"
     },
     "output_type": "display_data"
    }
   ],
   "source": [
    "remove_outliers.Rating.plot(kind='hist', \n",
    "                               bins=11, \n",
    "                               title='Распределение рэйтинга')\n",
    "\n",
    "#ВЫВОД - ВИДИМ ЧТО ОКОЛО 3500 ПРИЛОЖЕНИЙ ОЦЕНЕНЫ В 4.2 И 4.3 БАЛЛА"
   ]
  },
  {
   "cell_type": "markdown",
   "metadata": {},
   "source": [
    "**Посмотрим Кол-во Рэйтингов в разрезе Категорий по всем Приложениям с помощью Bar chart**"
   ]
  },
  {
   "cell_type": "code",
   "execution_count": 119,
   "metadata": {},
   "outputs": [],
   "source": [
    "apps_by_installs = remove_outliers[['Rating','Category']].groupby('Category').count()"
   ]
  },
  {
   "cell_type": "code",
   "execution_count": 121,
   "metadata": {
    "scrolled": true
   },
   "outputs": [
    {
     "data": {
      "text/plain": [
       "<matplotlib.axes._subplots.AxesSubplot at 0x1e680b2f388>"
      ]
     },
     "execution_count": 121,
     "metadata": {},
     "output_type": "execute_result"
    },
    {
     "data": {
      "image/png": "[encoded data removed]",
      "text/plain": [
       "<Figure size 936x432 with 1 Axes>"
      ]
     },
     "metadata": {
      "needs_background": "light"
     },
     "output_type": "display_data"
    }
   ],
   "source": [
    "apps_by_installs.plot(kind='bar', title='Категории игр по Количеству Рэйтинга')\n",
    "\n",
    "#ВЫВОД - наиболее оцениваемая Категория - FAMILY"
   ]
  },
  {
   "cell_type": "markdown",
   "metadata": {},
   "source": [
    "**Посмотрим на взаимосвязь Кол-во скачиваний и Рэйтинга**, но перед этим столбец Installs необходимо перевести в числовое значение"
   ]
  },
  {
   "cell_type": "code",
   "execution_count": 122,
   "metadata": {},
   "outputs": [
    {
     "data": {
      "text/plain": [
       "array(['100,000+', '500,000+', '1,000+', '10,000+', '100+', '50,000+',\n",
       "       '50+', '5,000+', '1,000,000+', '10,000,000+', '500+',\n",
       "       '100,000,000+', '5,000,000+', '10+', '50,000,000+',\n",
       "       '1,000,000,000+', '500,000,000+', '1+', '5+', '0+'], dtype=object)"
      ]
     },
     "execution_count": 122,
     "metadata": {},
     "output_type": "execute_result"
    }
   ],
   "source": [
    "remove_outliers['Installs'].unique()"
   ]
  },
  {
   "cell_type": "code",
   "execution_count": 123,
   "metadata": {},
   "outputs": [],
   "source": [
    "def convert_to_num(row):\n",
    "    if row == '100,000+':\n",
    "        return 100000\n",
    "    elif row == '500,000+':\n",
    "        return 500000\n",
    "    elif row == '1,000+':\n",
    "        return 1000\n",
    "    elif row == '10,000+':\n",
    "        return 10000\n",
    "    elif row == '100+':\n",
    "        return 100\n",
    "    elif row == '50,000+':\n",
    "        return 50000\n",
    "    elif row == '50+':\n",
    "        return 50\n",
    "    elif row == '5,000+':\n",
    "        return 5000\n",
    "    elif row == '1,000,000+':\n",
    "        return 1000000\n",
    "    elif row == '10,000,000+':\n",
    "        return 10000000\n",
    "    elif row == '500+':\n",
    "        return 500\n",
    "    elif row == '100,000,000+':\n",
    "        return 100000000\n",
    "    elif row == '5,000,000+':\n",
    "        return 5000000\n",
    "    elif row == '10+':\n",
    "        return 10\n",
    "    elif row == '50,000,000+':\n",
    "        return 50000000\n",
    "    elif row == '1,000,000,000+':\n",
    "        return 1000000000\n",
    "    elif row == '500,000,000+':\n",
    "        return 500000000\n",
    "    elif row == '1+':\n",
    "        return 1\n",
    "    elif row == '5+':\n",
    "        return 5\n",
    "    elif row == '0+':\n",
    "        return 0"
   ]
  },
  {
   "cell_type": "code",
   "execution_count": 124,
   "metadata": {},
   "outputs": [],
   "source": [
    "remove_outliers['Installs'] = remove_outliers['Installs'].apply(convert_to_num)"
   ]
  },
  {
   "cell_type": "code",
   "execution_count": 131,
   "metadata": {},
   "outputs": [
    {
     "data": {
      "image/png": "[encoded data removed]",
      "text/plain": [
       "<Figure size 936x432 with 1 Axes>"
      ]
     },
     "metadata": {
      "needs_background": "light"
     },
     "output_type": "display_data"
    }
   ],
   "source": [
    "remove_outliers.plot(kind='scatter', \n",
    "                     x='Rating', \n",
    "                     y='Installs', \n",
    "                     title='Correlation between Rating and Installs'\n",
    "                    )\n",
    "plt.show()\n",
    "\n",
    "#ВЫВОД - ЧТО ТО СТРАННЫЙ ГРАФИК НА ВЫХОДЕ, НЕ МОГУ ПОНЯТЬ, ЧТО НЕ ТАК СДЕЛАНО?"
   ]
  },
  {
   "cell_type": "code",
   "execution_count": 134,
   "metadata": {},
   "outputs": [
    {
     "data": {
      "text/plain": [
       "<seaborn.axisgrid.JointGrid at 0x1e681c14188>"
      ]
     },
     "execution_count": 134,
     "metadata": {},
     "output_type": "execute_result"
    },
    {
     "data": {
      "image/png": "[encoded data removed]",
      "text/plain": [
       "<Figure size 432x432 with 3 Axes>"
      ]
     },
     "metadata": {
      "needs_background": "light"
     },
     "output_type": "display_data"
    }
   ],
   "source": [
    "sns.jointplot(x='Rating', y='Installs', data=remove_outliers,kind='scatter')"
   ]
  },
  {
   "cell_type": "code",
   "execution_count": null,
   "metadata": {},
   "outputs": [],
   "source": []
  }
 ],
 "metadata": {
  "kernelspec": {
   "display_name": "Python 3",
   "language": "python",
   "name": "python3"
  },
  "language_info": {
   "codemirror_mode": {
    "name": "ipython",
    "version": 3
   },
   "file_extension": ".py",
   "mimetype": "text/x-python",
   "name": "python",
   "nbconvert_exporter": "python",
   "pygments_lexer": "ipython3",
   "version": "3.7.4"
  }
 },
 "nbformat": 4,
 "nbformat_minor": 2
}
