{
 "cells": [
  {
   "cell_type": "markdown",
   "metadata": {},
   "source": [
    "Задание 1 -  перечислил 12 букв с кириллицы, есть ли более локоничные решения? можете ли плз пояснить я в конце добавил \\b чтобы у меня был только поиск по 2 или 3 цифрам, так как если в конце было 4 и более цифр то возвращался бы valid, но при этом полностью не могу понять как тут срабатывает \\b"
   ]
  },
  {
   "cell_type": "code",
   "execution_count": 1,
   "metadata": {},
   "outputs": [],
   "source": [
    "import re"
   ]
  },
  {
   "cell_type": "code",
   "execution_count": 225,
   "metadata": {},
   "outputs": [],
   "source": [
    "def check_number(num):\n",
    "    valid = True\n",
    "    pattern = r'([А|В|Е|К|М|Н|О|Р|С|Т|У|Х]{1}\\d{3}[А|В|Е|К|М|Н|О|Р|С|Т|У|Х]{2})(\\d{2,3}\\b)'\n",
    "    res = re.match(pattern, num)\n",
    "    if bool(re.findall(pattern, num)) == True: \n",
    "        print('Номер {} валиден. Регион: {}'.format(res.group(1),res.group(2)))\n",
    "    else:\n",
    "        print('Номер не валиден')"
   ]
  },
  {
   "cell_type": "code",
   "execution_count": 226,
   "metadata": {},
   "outputs": [
    {
     "name": "stdout",
     "output_type": "stream",
     "text": [
      "Номер не валиден\n"
     ]
    }
   ],
   "source": [
    "check_number('Е222ВС9е6')"
   ]
  },
  {
   "cell_type": "markdown",
   "metadata": {},
   "source": [
    "Задание 2"
   ]
  },
  {
   "cell_type": "code",
   "execution_count": 229,
   "metadata": {},
   "outputs": [],
   "source": [
    "def remove_dupl(my):\n",
    "    pattern = r'\\b(\\w+)(?:\\W\\1\\b)+'\n",
    "    return re.sub(pattern, r'\\1',my)"
   ]
  },
  {
   "cell_type": "code",
   "execution_count": 230,
   "metadata": {},
   "outputs": [
    {
     "data": {
      "text/plain": [
       "'Напишите функцию, которая будет удалять все последовательные повторы слов из заданной строки при помощи регулярных выражений.'"
      ]
     },
     "execution_count": 230,
     "metadata": {},
     "output_type": "execute_result"
    }
   ],
   "source": [
    "remove_dupl('Напишите функцию функцию, которая будет будет будет будет удалять все все все все последовательные повторы слов из из из из заданной строки строки при помощи регулярных выражений.')"
   ]
  },
  {
   "cell_type": "markdown",
   "metadata": {},
   "source": [
    "Задание 3"
   ]
  },
  {
   "cell_type": "code",
   "execution_count": 275,
   "metadata": {},
   "outputs": [],
   "source": [
    "def acro(my):\n",
    "    pattern = r'\\b[a-zA-Z]'\n",
    "    res = re.findall(pattern,my)\n",
    "    my_str = ''.join(res)\n",
    "    return my_str"
   ]
  },
  {
   "cell_type": "code",
   "execution_count": 276,
   "metadata": {},
   "outputs": [
    {
     "data": {
      "text/plain": [
       "'NFC'"
      ]
     },
     "execution_count": 276,
     "metadata": {},
     "output_type": "execute_result"
    }
   ],
   "source": [
    "acro('Near Field Communication')"
   ]
  },
  {
   "cell_type": "markdown",
   "metadata": {},
   "source": [
    "Задание 4 - сложно было с тем чтобы вывести кол-во повтороний. Есть ли другой вариант "
   ]
  },
  {
   "cell_type": "code",
   "execution_count": 288,
   "metadata": {},
   "outputs": [
    {
     "data": {
      "text/plain": [
       "['@gmail.com', '@test.in', '@ya.ru', '@mail.ru', '@ya.ru', '@gmail.com']"
      ]
     },
     "execution_count": 288,
     "metadata": {},
     "output_type": "execute_result"
    }
   ],
   "source": [
    "emails = ['test@gmail.com', 'xyz@test.in', 'test@ya.ru', 'xyz@mail.ru', 'xyz@ya.ru', 'xyz@gmail.com', 'eee.xom']\n",
    "my = ' '.join(emails)\n",
    "pattern = r'@[\\w\\.-]+'\n",
    "res = re.findall(pattern, my)\n",
    "res"
   ]
  },
  {
   "cell_type": "code",
   "execution_count": 292,
   "metadata": {},
   "outputs": [
    {
     "data": {
      "text/plain": [
       "{'@mail.ru': 1, '@test.in': 1, '@ya.ru': 2, '@gmail.com': 2}"
      ]
     },
     "execution_count": 292,
     "metadata": {},
     "output_type": "execute_result"
    }
   ],
   "source": [
    "dict((x,res.count(x)) for x in set(res))"
   ]
  },
  {
   "cell_type": "code",
   "execution_count": null,
   "metadata": {},
   "outputs": [],
   "source": []
  }
 ],
 "metadata": {
  "kernelspec": {
   "display_name": "Python 3",
   "language": "python",
   "name": "python3"
  },
  "language_info": {
   "codemirror_mode": {
    "name": "ipython",
    "version": 3
   },
   "file_extension": ".py",
   "mimetype": "text/x-python",
   "name": "python",
   "nbconvert_exporter": "python",
   "pygments_lexer": "ipython3",
   "version": "3.7.4"
  }
 },
 "nbformat": 4,
 "nbformat_minor": 2
}
