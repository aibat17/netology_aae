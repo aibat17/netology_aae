{
 "cells": [
  {
   "cell_type": "markdown",
   "metadata": {},
   "source": [
    "Задание 1 (В данном задании я использовал индескацию строк, и вывелалгоритм, НО я полагаю есть более лаконичное решение. Не могли бы подсказать какое именно? )"
   ]
  },
  {
   "cell_type": "code",
   "execution_count": 71,
   "metadata": {},
   "outputs": [
    {
     "name": "stdout",
     "output_type": "stream",
     "text": [
      "an\n"
     ]
    }
   ],
   "source": [
    "word = \"ananas\"\n",
    "if len(word) % 2 == 0:\n",
    "    half = int(len(word)/2)\n",
    "    s2 = word[len(word)-half]\n",
    "    s1 = word[len(word)-half-1]\n",
    "    final = s1+s2\n",
    "    print(final)\n",
    "else:\n",
    "    half = int(len(word)/2); \n",
    "    s2 = word[(len(word)-1)-half] \n",
    "    print(s2);"
   ]
  },
  {
   "cell_type": "markdown",
   "metadata": {},
   "source": [
    "Задание 2 (В данном задание мне пришлось сделать начальную иницилизацию вводимогу числу, то есть number=1. На сколько это верно?)"
   ]
  },
  {
   "cell_type": "code",
   "execution_count": 89,
   "metadata": {},
   "outputs": [
    {
     "name": "stdout",
     "output_type": "stream",
     "text": [
      "Введите число:1\n",
      "1\n",
      "Введите число:2\n",
      "2\n",
      "Введите число:3\n",
      "3\n",
      "Введите число:0\n",
      "0\n",
      "Результат:\n",
      "6\n"
     ]
    }
   ],
   "source": [
    "number = 1;\n",
    "sum = 0;\n",
    "while (number != 0):\n",
    "    number = input(\"Введите число:\")\n",
    "    number = int(number)\n",
    "    print(number)\n",
    "    sum += number;\n",
    "print(\"Результат:\" +\"\\n\" + str(sum))"
   ]
  },
  {
   "cell_type": "markdown",
   "metadata": {},
   "source": [
    "Задание 3 (хочу убедиться правильно ли я мыслю: я сначала делаю проверку на длину, после чего сортирую оба списка, далее чтобы выводить попарное значение, я пользуюсь функцией zip для того чтобы привести в список кортежей (вот тут верно ли я поступаю??) после чего циклом прохожусь по данному списку и попарно вывожу значения)\n",
    "Можно ли было обойтись без функции zip? и если да, то как?"
   ]
  },
  {
   "cell_type": "code",
   "execution_count": 117,
   "metadata": {},
   "outputs": [
    {
     "name": "stdout",
     "output_type": "stream",
     "text": [
      "Идеальные пары:\n",
      "Alex и Emma\n",
      "Arthur и Kate\n",
      "John и Kira\n",
      "Peter и Liza\n",
      "Richard и Trisha\n"
     ]
    }
   ],
   "source": [
    "boys = ['Peter', 'Alex', 'John', 'Arthur', 'Richard']\n",
    "girls = ['Kate', 'Liza', 'Kira', 'Emma', 'Trisha']\n",
    "\n",
    "if len(boys) != len(girls):\n",
    "    print(\"Внимание, кто-то может остаться без пары!\")\n",
    "else:\n",
    "    sorted_l1 = sorted(boys)\n",
    "    sorted_l2 = sorted(girls)\n",
    "    print(\"Идеальные пары:\")\n",
    "    ideal = zip(sorted_l1,sorted_l2)\n",
    "    for id in ideal:\n",
    "        print(id[0],'и',id[1])"
   ]
  },
  {
   "cell_type": "markdown",
   "metadata": {},
   "source": [
    "Задание 4"
   ]
  },
  {
   "cell_type": "code",
   "execution_count": 201,
   "metadata": {},
   "outputs": [
    {
     "name": "stdout",
     "output_type": "stream",
     "text": [
      "Thailand - 23.9 С\n",
      "Germany - 13.8 С\n",
      "Russia - 3.7 С\n",
      "Poland - 12.0 С\n"
     ]
    }
   ],
   "source": [
    "countries_temperature = [\n",
    "    ['Thailand', [75.2, 77, 78.8, 73.4, 68, 75.2, 77]],\n",
    "    ['Germany', [57.2, 55.4, 59, 59, 53.6]],\n",
    "    ['Russia', [35.6, 37.4, 39.2, 41, 42.8, 39.2, 35.6]],\n",
    "    ['Poland', [50, 50, 53.6, 57.2, 55.4, 55.4]]\n",
    "]\n",
    "\n",
    "for country in countries_temperature:\n",
    "    total = 0.0;\n",
    "    cels = 0.0;\n",
    "    avg = 0.0;\n",
    "    for temp in country[1]:\n",
    "        total += temp\n",
    "    avg = total/len(country[1])\n",
    "    cels = (avg - 32) * 5 / 9;\n",
    "    print(country[0], '-',round(cels,1),'С')"
   ]
  },
  {
   "cell_type": "code",
   "execution_count": null,
   "metadata": {},
   "outputs": [],
   "source": []
  }
 ],
 "metadata": {
  "kernelspec": {
   "display_name": "Python 3",
   "language": "python",
   "name": "python3"
  },
  "language_info": {
   "codemirror_mode": {
    "name": "ipython",
    "version": 3
   },
   "file_extension": ".py",
   "mimetype": "text/x-python",
   "name": "python",
   "nbconvert_exporter": "python",
   "pygments_lexer": "ipython3",
   "version": "3.7.4"
  }
 },
 "nbformat": 4,
 "nbformat_minor": 2
}
