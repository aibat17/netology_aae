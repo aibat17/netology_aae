{
 "cells": [
  {
   "cell_type": "code",
   "execution_count": 1,
   "metadata": {},
   "outputs": [],
   "source": [
    "import numpy as np"
   ]
  },
  {
   "cell_type": "code",
   "execution_count": 39,
   "metadata": {},
   "outputs": [
    {
     "name": "stdout",
     "output_type": "stream",
     "text": [
      "Теоретический выигрыш: 0.79\n"
     ]
    }
   ],
   "source": [
    "#Предполагаю использовать формулу Полной вероятности. \n",
    "#Заключаю, что А = \"Выгодна ли игра игроку?\", H1 = Игрок получит выигрыш, то есть выгодно, H2 = Игрок не получит выигрыш, то есть проиграет\n",
    "#Далее, нужно посчитать сначала Теоретическую вероятность. \n",
    "\n",
    "prob_3 = 1/1000\n",
    "prob_77 = 9/1000\n",
    "prob_7 = 90/1000 \n",
    "prob_0 = 1/10\n",
    "prob_00 = 1//100\n",
    "\n",
    "mean_prob = (200 * prob_3) + (100 * prob_3) + (50 * prob_3) + (15 * prob_3) + (10 * prob_3) + (5 * prob_77) + (3 * prob_7) + (2 * prob_00) + (1 * prob_0)\n",
    "\n",
    "print('Теоретический выигрыш:',mean_prob) #На сколько я понял - тут получается что теор. вероятность того,что Игрок выигрыает = 79%? или же наоборот 21% того, что выиграет?  "
   ]
  },
  {
   "cell_type": "code",
   "execution_count": 38,
   "metadata": {},
   "outputs": [
    {
     "name": "stdout",
     "output_type": "stream",
     "text": [
      "Средний выигрыш: 0.8\n"
     ]
    }
   ],
   "source": [
    "#Теперь нужно проверить какова вероятность выигрыша Практически. Ниже моделирую данный кейс.  \n",
    "\n",
    "trial = 1000000 #кол-во попыток\n",
    "game = 0 #взнос за одну игру\n",
    "success = 0\n",
    "\n",
    "for i in range(trial):\n",
    "    number = np.random.randint(0, 1000)\n",
    "    if number == 777:\n",
    "        game = game + 200\n",
    "        success += 1\n",
    "    elif number == 999:\n",
    "        game = game + 100\n",
    "        success += 1\n",
    "    elif number == 555:\n",
    "        game = game + 50\n",
    "        success += 1\n",
    "    elif number == 333:\n",
    "        game = game + 15\n",
    "        success += 1\n",
    "    elif number == 111:\n",
    "        game = game + 10\n",
    "        success += 1\n",
    "    elif number % 100 == 77:\n",
    "        game = game + 5\n",
    "        success += 1\n",
    "    elif number % 10 == 7:\n",
    "        game = game + 3\n",
    "        success += 1\n",
    "    elif number % 100 == 0:\n",
    "        game = game + 2\n",
    "        success += 1\n",
    "    elif number % 10 == 0:\n",
    "        game = game + 1\n",
    "        success += 1\n",
    "\n",
    "res = game/trial\n",
    "print(\"Средний выигрыш:\",round(res, 2))"
   ]
  },
  {
   "cell_type": "markdown",
   "metadata": {},
   "source": [
    "То, что я реализовал выше на сколько я понял сам, я ответил на этот **вопрос: Теоретически рассчитать средний выигрыш (проигрыш) и сравнить с результатами моделирования**\n",
    "\n",
    "При этом я не понял как мне ответить на эти **вопросы: Выгодна ли игра игроку? и Сколько в среднем приобретает или теряет игрок за одну игру?**\n",
    "\n",
    "**Напишите плиз обратную связь по алгоритму действий, так как я хочу полностью решить эту задачу, но и при этом понять от и до.**"
   ]
  },
  {
   "cell_type": "code",
   "execution_count": null,
   "metadata": {},
   "outputs": [],
   "source": []
  }
 ],
 "metadata": {
  "kernelspec": {
   "display_name": "Python 3",
   "language": "python",
   "name": "python3"
  },
  "language_info": {
   "codemirror_mode": {
    "name": "ipython",
    "version": 3
   },
   "file_extension": ".py",
   "mimetype": "text/x-python",
   "name": "python",
   "nbconvert_exporter": "python",
   "pygments_lexer": "ipython3",
   "version": "3.7.4"
  }
 },
 "nbformat": 4,
 "nbformat_minor": 2
}
